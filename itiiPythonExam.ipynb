{
 "cells": [
  {
   "cell_type": "markdown",
   "metadata": {},
   "source": [
    "LORNAGE Rémy\n",
    "\n",
    "# Devoir Python\n",
    "\n",
    "Vous devez rendre votre devoir sur GitHub.\n",
    "Vous avez le droit a tout vos documents et a internet\n",
    "\n",
    "1. votre depot doit etre privé\n",
    "2. vous devez inviter comme colaborateur votre chargé de TD/TP\n",
    "3. Seul le dernier commit avant la fin de la séance sera corrigé.\n"
   ]
  },
  {
   "cell_type": "markdown",
   "metadata": {},
   "source": [
    "Ex 1: Integrale de Romberg\n",
    "\n",
    "Ecrire une fonction integ_romberg(f, a, b, epsilon=1e-6) permettant de calculer l’intégrale numérique de la fonction f entre les bornes a et b avec une précision epsilon selon la méthode de Romberg (https://fr.wikipedia.org/wiki/M%C3%A9thode_de_Romberg).\n",
    "\n",
    "Il s’agit d’une méthode qui permet d’améliorer les méthodes usuelles de calcul numérique des intégrales, comme la méthode des Trapèzes.\n",
    "On montre qu’en combinant judicieusement les valeurs obtenues par la méthode des Trapèzes pour différentes subdivisons de l’intervalle d’intégration, on augmente l’ordre de convergence (sa vitesse de convergence). \n"
   ]
  },
  {
   "cell_type": "code",
   "execution_count": 3,
   "metadata": {},
   "outputs": [],
   "source": [
    "\n",
    "\n",
    "import math\n",
    "import numpy"
   ]
  },
  {
   "cell_type": "code",
   "execution_count": 26,
   "metadata": {},
   "outputs": [
    {
     "name": "stdout",
     "output_type": "stream",
     "text": [
      "En utilisant la methode de Romberg :\n",
      "7\n",
      "0.0\n",
      "\n",
      "En utilisant la methode des trapèzes :\n",
      "9.934106989795133e-08\n",
      "2047\n",
      "Fait\n"
     ]
    }
   ],
   "source": [
    "class Romberg:\n",
    "    def __init__(self,f,a,b): # initialisation des variables\n",
    "        self.f = f\n",
    "        self.a = a\n",
    "        self.b = b\n",
    "        self.p = 0\n",
    "        self.N = 1\n",
    "        self.S = 0.5*(f(a)+f(b))\n",
    "        self.h = (b-a)\n",
    "        self.I = self.S*self.h\n",
    "        self.I_last = self.I\n",
    "        self.n_eval = 0\n",
    "    def iteration(self):\n",
    "        self.n_eval += self.N\n",
    "        x = self.a+self.h*0.5\n",
    "        somme = self.f(x)\n",
    "        for k in range(self.N-1):\n",
    "            x += self.h\n",
    "            somme += f(x)\n",
    "        self.N *= 2\n",
    "        self.p += 1\n",
    "        self.S += somme\n",
    "        self.h *= 0.5\n",
    "        self.I_last = self.I\n",
    "        self.I = self.h*self.S\n",
    "        \n",
    "    def iterations(self,P):\n",
    "        I = [self.I]\n",
    "        h = [self.h]\n",
    "        while self.p<P:\n",
    "            self.iteration()\n",
    "            I.append(self.I)\n",
    "            h.append(self.h)\n",
    "        return (numpy.array(h),numpy.array(I))\n",
    "        \n",
    "    def trapezes(self,epsilon): #methode des trapeze \n",
    "        I = [self.I]\n",
    "        h = [self.h]\n",
    "        self.iteration()\n",
    "        while abs(self.I-self.I_last)>epsilon:\n",
    "            self.iteration()\n",
    "            I.append(self.I)\n",
    "            h.append(self.h)\n",
    "        return (numpy.array(h),numpy.array(I))\n",
    "        \n",
    "    def romberg(self,epsilon):  #methode de romberg\n",
    "        jmax = 20\n",
    "        A=numpy.zeros((jmax+1,jmax+1))\n",
    "        A[0][0] = self.I\n",
    "        self.iteration()\n",
    "        A[1][0] = self.I\n",
    "        correction = (A[1][0]-A[0][0])/3\n",
    "        A[1][1] = A[1][0] + correction\n",
    "        j = 2\n",
    "        while abs(correction) > epsilon:\n",
    "            self.iteration()\n",
    "            A[j][0] = self.I\n",
    "            for i in range(1,j+1):\n",
    "                correction = (A[j][i-1]-A[j-1][i-1])/(4**i-1)\n",
    "                A[j][i] = A[j][i-1] + correction\n",
    "            j += 1\n",
    "        return (A[0:j-1,0:j-1],A[j-1][j-1])\n",
    "    \n",
    "def integ_romberg(f, a, b,epsilon=1e-6):  #fonction inter-romberg qui calcule en utilisant ce qui a était créé precedement\n",
    "    romberg = Romberg(f,0,1)\n",
    "    print(\"En utilisant la methode de Romberg :\")\n",
    "    (A,I) = romberg.romberg(epsilon)\n",
    "    print(romberg.n_eval)  # nomre d'iteration\n",
    "    print(I-1.0/6)\n",
    "\n",
    "\n",
    "    print(\"\\nEn utilisant la methode des trapèzes :\")\n",
    "    (h,I) = romberg.trapezes(epsilon)\n",
    "    print(I[-1]-1.0/6)\n",
    "    print(romberg.n_eval)# nomre d'iteration\n",
    "    \n",
    "    return \"Fait\"\n",
    "\n",
    "f = lambda x : x**5\n",
    "print(integ_romberg(f,0,1))"
   ]
  },
  {
   "cell_type": "markdown",
   "metadata": {},
   "source": [
    "Ex 2: Équation d’état de l’eau à partir de la dynamique moléculaire\n",
    "\n",
    "Afin de modéliser les planètes de type Jupiter, Saturne, ou même des exo-planètes très massives (dites « super-Jupiters »), la connaissance de l’équation d’état des composants est nécessaire. Ces équations d’état doivent être valables jusqu’à plusieurs centaines de méga-bar ; autrement dit, celles-ci ne sont en aucun cas accessibles expérimentalement. On peut cependant obtenir une équation d’état numériquement à partir d’une dynamique moléculaire.\n",
    "\n",
    "Le principe est le suivant : on place dans une boite un certain nombre de particules régies par les équations microscopiques (Newton par exemple, ou même par des équations prenant en considération la mécanique quantique) puis on laisse celles-ci évoluer dans la boite ; on calcule à chaque pas de temps l’énergie interne à partir des intéractions électrostatiques et la pression à partir du tenseur des contraintes. On obtient en sortie l’évolution du système pour une densité fixée (par le choix de taille de la boite) et une température fixée (par un algorithme de thermostat que nous ne détaillerons pas ici).\n",
    "\n",
    "On se propose d’analyser quelques fichiers de sortie de tels calculs pour l’équation d’état de l’eau à très haute pression. Les fichiers de sortie sont disponibles ici; leur nom indique les conditions thermodynamiques correspondant au fichier, p.ex. 6000K_30gcc.out pour T=6000\n",
    "K et ρ=30 gcc. Le but est, pour chaque condition température-densité, d’extraire l’évolution de l’énergie et de la pression au cours du temps, puis d’en extraire la valeur moyenne ainsi que les fluctuations. Il arrive souvent que l’état initial choisi pour le système ne corresponde pas à son état d’équilibre, et qu’il faille donc « jeter » les quelques pas de temps en début de simulation qui correspondent à cette relaxation du système. Pour savoir combien de temps prend cette relaxation, il sera utile de tracer l’évolution au cours du temps de la pression et l’énergie pour quelques simulations. Une fois l’équation d’état P(ρ,T) et E(ρ,T) extraite, on pourra tracer le réseau d’isothermes."
   ]
  },
  {
   "cell_type": "code",
   "execution_count": null,
   "metadata": {},
   "outputs": [],
   "source": []
  },
  {
   "cell_type": "markdown",
   "metadata": {},
   "source": [
    "Ex 3: Le problème du voyageur de commerce\n",
    "\n",
    "Le problème du voyageur de commerce est un problème d’optimisation consistant à déterminer le plus court chemin reliant un ensemble de destinations. Il n’existe pas d’algorithme donnant la solution optimale en un temps raisonnable (problème NP-complet), mais l’on peut chercher à déterminer des solutions approchées. On va se placer ici dans le cas d’un livreur devant desservir une seule fois chacune desndestinations d’une ville américaine où les rues sont agencées en réseau carré. \n",
    "\n",
    "On utilise la « distance deManhattan »  entre deux points 𝐴(𝑥𝐴,𝑦𝐴) et 𝐵(𝑥𝐵,𝑦𝐵) : 𝑑(𝐴,𝐵) =|𝑥𝐵−𝑥𝐴|+|𝑦𝐵−𝑦𝐴|.\n",
    "\n",
    "En outre, on se place dans le cas où les coordonnées des destinations sont entières, comprises entre 0 (inclus) et TAILLE = 50 (exclus). Deux destinations peuvent éventuellement avoir les mêmes coordonnées. Les instructions suivantes doivent permettre de définir les classes nécessaires (Ville et Trajet) et de développer un algorithme approché (heuristiques) : l’algorithme du plus proche voisin. \n",
    "\n",
    "Seules la librairie standard et la librairie numpy sont utilisables si nécessaire. Implementer les classes et methodes suivante:\n",
    "\n",
    "\n",
    "Classe Ville:\n",
    "* __init__(): initialisation d’une ville sans destination.\n",
    "* aleatoire(n): création de n destinations aléatoires.\n",
    "* nb_trajet(): retourne le nombre total (entier) de trajets :(𝑛−1)!/2(utilisermath.factorial()).\n",
    "* distance(i, j): retourne la distance (Manhattan) entre les deux destinations de numéro i et j\n",
    "\n",
    "\n",
    "Classe Trajet:\n",
    "* __init__(ville, etapes=None): initialisation sur une ville. Si la liste etapes n’est pas spécifiée, le trajet par défaut est celui suivant les destinations de ville.\n",
    "* longueur(): retourne la longueur totale du trajetbouclé(i.e. revenant à son point de départ).\n",
    "\n",
    "\n",
    "Plus proche voisin:\n",
    "* Ville.plus_proche(i, exclus=[]): retourne la destination la plus proche de la destinationi(au sens de Ville.distance()), hors les destinations de la liste exclus\n",
    "* Ville.trajet_voisins(depart=0): retourne un Trajet déterminé selon l’heuristique des plus proches voisins (i.e. l’étape suivante est la destination la plus proche hors les destinations déjà visitées) en partant de l’étape initiale depart\n",
    "\n",
    "Optimisation:\n",
    "* Proposer un algorithme qui propose une meilleur alternative au \"plus proche voisin\".\n",
    "\n",
    "Interface:\n",
    "* Ville.figure(trajet=None): Afficher le plande la ville et le trajet obtenue (utiliser matplotlib.step()pour des trajets de type « Manhattan »)"
   ]
  },
  {
   "cell_type": "markdown",
   "metadata": {},
   "source": []
  },
  {
   "cell_type": "code",
   "execution_count": null,
   "metadata": {},
   "outputs": [],
   "source": [
    "class ville: \n",
    "    def __init__(self):\n",
    "        self.paris = paris\n",
    "        \n",
    "    del aleatoire(self,n):\n",
    "        for _ range in (n):\n",
    "            \n",
    "        "
   ]
  }
 ],
 "metadata": {
  "kernelspec": {
   "display_name": "Python 3",
   "language": "python",
   "name": "python3"
  },
  "language_info": {
   "codemirror_mode": {
    "name": "ipython",
    "version": 3
   },
   "file_extension": ".py",
   "mimetype": "text/x-python",
   "name": "python",
   "nbconvert_exporter": "python",
   "pygments_lexer": "ipython3",
   "version": "3.7.0"
  }
 },
 "nbformat": 4,
 "nbformat_minor": 4
}
